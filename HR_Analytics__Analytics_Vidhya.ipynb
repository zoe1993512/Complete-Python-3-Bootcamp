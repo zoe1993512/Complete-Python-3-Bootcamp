{
  "nbformat": 4,
  "nbformat_minor": 0,
  "metadata": {
    "colab": {
      "name": "HR Analytics _Analytics Vidhya",
      "provenance": [],
      "authorship_tag": "ABX9TyPNMzo+uAYIgA/mZ1rVu5px"
    },
    "kernelspec": {
      "name": "python3",
      "display_name": "Python 3"
    },
    "language_info": {
      "name": "python"
    }
  },
  "cells": [
    {
      "cell_type": "markdown",
      "metadata": {
        "id": "Nf0uGLVoWeqC"
      },
      "source": [
        "## **HR Analytics _Analytics Vidhya**\n",
        "**By Zoe Tu**      \n",
        "**June 4, 2021**\n",
        "\n",
        "https://datahack.analyticsvidhya.com/contest/wns-analytics-hackathon-2018-1/#DiscussTab\n",
        "\n",
        "ref:\n",
        "*   https://www.analyticsvidhya.com/blog/2018/12/wns-hackathon-solutions-by-top-finishers/\n",
        "*   https://github.com/analyticsvidhya/wns-analytics-wizard-2018/blob/master/Rank%202:%20Team%20Cheburek/WNS_starter_2.ipynb\n"
      ]
    },
    {
      "cell_type": "markdown",
      "metadata": {
        "id": "OwAgXkT_V-v8"
      },
      "source": [
        "**import libraries**"
      ]
    },
    {
      "cell_type": "code",
      "metadata": {
        "id": "woy_awMRT56N"
      },
      "source": [
        "import numpy as np\n",
        "import pandas as pd\n",
        "import matplotlib.pyplot as plt\n",
        "import seaborn as sns\n",
        "\n",
        "from pylab import rcParams\n",
        "rcParams['figure.figsize'] = 8, 5"
      ],
      "execution_count": 1,
      "outputs": []
    },
    {
      "cell_type": "code",
      "metadata": {
        "id": "KfEGZexnT602"
      },
      "source": [
        "from sklearn.metrics import f1_score, roc_auc_score, log_loss, precision_score, recall_score, confusion_matrix\n",
        "from sklearn.model_selection import KFold, cross_val_predict\n",
        "from sklearn.tree import DecisionTreeClassifier\n",
        "#from eli5.permutation_importance import get_score_importances\n",
        "#import shap\n",
        "import lightgbm as lgb"
      ],
      "execution_count": 2,
      "outputs": []
    },
    {
      "cell_type": "markdown",
      "metadata": {
        "id": "G94RQa_sV6_k"
      },
      "source": [
        "**Defind model**"
      ]
    },
    {
      "cell_type": "code",
      "metadata": {
        "id": "y0eNaO9pT969"
      },
      "source": [
        "class TrainTestHelper(object):\n",
        "    def __init__(self):\n",
        "        self.ntrain = None\n",
        "\n",
        "    def combine(self, train, test):\n",
        "        self.ntrain = train.shape[0]\n",
        "        if isinstance(train, np.ndarray):\n",
        "            return np.row_stack((train, test))\n",
        "        else:\n",
        "            return train.append(test).reset_index(drop=True)\n",
        "\n",
        "    def split(self, train_test):\n",
        "        if self.ntrain is None:\n",
        "            return None\n",
        "        if isinstance(train_test, np.ndarray):\n",
        "            train = train_test[:self.ntrain, :]\n",
        "            test = train_test[self.ntrain:, :]\n",
        "        else:\n",
        "            train = train_test.iloc[:self.ntrain, :].copy().reset_index(drop=True)\n",
        "            test = train_test.iloc[self.ntrain:, :].copy().reset_index(drop=True)\n",
        "        return train, test"
      ],
      "execution_count": 3,
      "outputs": []
    },
    {
      "cell_type": "code",
      "metadata": {
        "id": "q_hjXIB1T_nx"
      },
      "source": [
        "class MeanEncoder(object):\n",
        "    def __init__(self, alpha=1, loo=False, noisy=False, noise_std=0, seed=0):\n",
        "        self.alpha = alpha\n",
        "        self.loo = loo\n",
        "        self.noisy = noisy\n",
        "        self.noise_std = noise_std\n",
        "        self.seed = np.random.RandomState(seed)\n",
        "    \n",
        "    # fit\n",
        "    def fit_column(self, X, y, col):\n",
        "        self.target_sums[col] = y.groupby(X[col]).sum()\n",
        "        self.target_counts[col] = y.groupby(X[col]).count()        \n",
        "        \n",
        "    def fit(self, X, y, cats):\n",
        "        self.global_mean = np.mean(y)\n",
        "        self.global_std = np.std(y) if self.noise_std is None else self.noise_std\n",
        "        self.target_sums = {}\n",
        "        self.target_counts = {}\n",
        "        for col in cats:\n",
        "            self.fit_column(X, y, col)\n",
        "    \n",
        "    # fit_transform\n",
        "    def fit_transform_column(self, X, y, col):\n",
        "        self.target_sums[col] = y.groupby(X[col]).sum()\n",
        "        self.target_counts[col] = y.groupby(X[col]).count()\n",
        "        \n",
        "        if self.noisy:\n",
        "            reg = self.seed.normal(loc=self.global_mean * self.alpha,\n",
        "                                     scale=self.global_std * np.sqrt(self.alpha),\n",
        "                                     size=len(y))\n",
        "        else:\n",
        "            reg = self.global_mean * self.alpha\n",
        "        \n",
        "        X_res_num = X[col].map(self.target_sums[col]) + reg\n",
        "        X_res_den = X[col].map(self.target_counts[col]) + self.alpha\n",
        "        \n",
        "        if self.loo:\n",
        "            X_res_num -= y\n",
        "            X_res_den -= 1\n",
        "        \n",
        "        return (X_res_num / X_res_den).values\n",
        "            \n",
        "    def fit_transform(self, X, y, cats):\n",
        "        self.global_mean = np.mean(y)\n",
        "        self.global_std = np.std(y) if self.noise_std is None else self.noise_std\n",
        "        self.target_sums = {}\n",
        "        self.target_counts = {}\n",
        "        X_res = pd.DataFrame()\n",
        "        \n",
        "        for col in cats:\n",
        "            X_res[col + '_mean_y'] = self.fit_transform_column(X, y, col)\n",
        "        \n",
        "        return X_res\n",
        "    \n",
        "    # transform\n",
        "    def transform_column(self, Xt, col):\n",
        "        Xt_res_num = Xt[col].map(self.target_sums[col]).fillna(0) + self.global_mean * self.alpha\n",
        "        Xt_res_den = Xt[col].map(self.target_counts[col]).fillna(0) + self.alpha\n",
        "        return (Xt_res_num / Xt_res_den).values\n",
        "    \n",
        "    def transform(self, Xt, cats):\n",
        "        Xt_res = pd.DataFrame()\n",
        "        for col in cats:\n",
        "            Xt_res[col + '_mean_y'] = self.transform_column(Xt, col)\n",
        "        return Xt_res"
      ],
      "execution_count": 4,
      "outputs": []
    },
    {
      "cell_type": "code",
      "metadata": {
        "id": "kU9rhYo1UEDK"
      },
      "source": [
        "class LGBWizard(object):\n",
        "    def __init__(self, params, cvparams):\n",
        "        self.params = params\n",
        "        self.cvparams = cvparams\n",
        "        \n",
        "    def fit(self, X, y, test, permute=None, get_shap=False):\n",
        "        \n",
        "        def score(X, y):\n",
        "            pred = self.model.predict(X)\n",
        "            return self.cvparams['metric'](y, pred)\n",
        "        \n",
        "        k = 0\n",
        "        fold_scores = []\n",
        "        self.fold_preds = []\n",
        "        self.target = y\n",
        "        self.feature_names = X.columns\n",
        "        self.cvpred = np.zeros(X.shape[0])\n",
        "        self.pred = np.zeros(test.shape[0])\n",
        "        \n",
        "        self.split_imp = np.zeros(X.shape[1])\n",
        "        self.gain_imp = np.zeros(X.shape[1])\n",
        "        self.perm_imp = np.zeros(X.shape[1])\n",
        "        self.shap_imp = np.zeros(X.shape[1])\n",
        "        \n",
        "        for tr, te in self.cvparams['folds'].split(X, y):\n",
        "            xtr, xte = X.loc[tr], X.loc[te]\n",
        "            ytr, yte = y[tr], y[te]\n",
        "            \n",
        "            #train_mean_features = mean_enc.fit_transform(xtr, ytr, to_enc)\n",
        "            #xtr = np.concatenate((xtr, train_mean_features), axis=1)\n",
        "            \n",
        "            #test_mean_features = mean_enc.transform(xte, to_enc)\n",
        "            #xte = np.concatenate((xte, test_mean_features), axis=1)\n",
        "            \n",
        "            xtr = lgb.Dataset(xtr, label=ytr)\n",
        "            xval = lgb.Dataset(xte, label=yte, reference=xtr)\n",
        "            self.model = lgb.train(self.params, xtr,\n",
        "                              num_boost_round=self.cvparams['nround'], valid_sets=[xtr, xval],\n",
        "                              early_stopping_rounds=self.cvparams['stopping'], verbose_eval=self.cvparams['verbose'])\n",
        "            self.cvpred[te] = self.model.predict(xte)\n",
        "            self.fold_preds.append(self.model.predict(test))\n",
        "            fold_scores.append(self.cvparams['metric'](yte, self.cvpred[te]))\n",
        "            print('Fold {}: {:.5f}'.format(k, fold_scores[-1]))\n",
        "            \n",
        "            self.split_imp += self.model.feature_importance(importance_type='split')\n",
        "            self.gain_imp += self.model.feature_importance(importance_type='gain')\n",
        "            \n",
        "            if permute is not None:\n",
        "                _, local_imp = get_score_importances(score, xte.values, yte, n_iter=permute, random_state=0)\n",
        "                self.perm_imp += np.mean(local_imp, axis=0)\n",
        "                \n",
        "            if get_shap:\n",
        "                explainer = shap.TreeExplainer(self.model)\n",
        "                self.shap_imp += np.sum(np.abs(explainer.shap_values(X.loc[tr])), axis=0) #X.loc[tr]\n",
        "                \n",
        "            k += 1\n",
        "        \n",
        "        self.split_imp /= k\n",
        "        self.gain_imp /= k\n",
        "        self.perm_imp /= -1 * k\n",
        "        self.shap_imp /= k\n",
        "        self.pred = np.mean(self.fold_preds, axis=0)\n",
        "        \n",
        "        print()\n",
        "        print('Mean score: {:.5f}'.format(np.mean(fold_scores)))\n",
        "        print('OOF score: {:.5f}'.format(self.cvparams['metric'](y, self.cvpred)))\n",
        "        print('Std of score: {:.5f}'.format(np.std(fold_scores)))\n",
        "        print('Mean std of test objects: {:.5f}'.format(np.mean(np.std(self.fold_preds, axis=0))))\n",
        "    \n",
        "    def compute_error(self):\n",
        "        eps = 1e-5\n",
        "        self.error = pd.DataFrame()\n",
        "        self.error['MAE'] = np.abs(self.target - self.cvpred)\n",
        "        self.error['MSE'] = (self.target - self.cvpred) ** 2\n",
        "        self.error['MAPE'] = np.abs((self.target - self.cvpred) / (self.target + eps))\n",
        "        self.error['MSPE'] = ((self.target - self.cvpred) / (self.target + eps)) ** 2\n",
        "        return self.error\n",
        "    \n",
        "    def get_importances(self):\n",
        "        all_imp = pd.DataFrame(index=self.feature_names)\n",
        "        all_imp['permutation'] = self.perm_imp\n",
        "        all_imp['shap'] = self.shap_imp\n",
        "        all_imp['gain'] = self.gain_imp\n",
        "        all_imp['split'] = self.split_imp\n",
        "        return all_imp.sort_values(by='permutation', ascending=False)\n",
        "    \n",
        "    def plot_prediction(self, size=(12, 7)):\n",
        "        eps = 0.1\n",
        "        _, ax = plt.subplots(figsize=size)\n",
        "        ax.scatter(self.cvpred, self.target, c='#0047ab', alpha=0.3)\n",
        "        props = {'xlim': (np.min(self.target) - eps, np.max(self.target) + eps),\n",
        "                 'ylim': (np.min(self.target) - eps, np.max(self.target) + eps),\n",
        "                 'title': 'OOF Prediction vs Target',\n",
        "                 'xlabel': 'Prediction',\n",
        "                 'ylabel': 'Target'}\n",
        "        ax.set(**props)\n",
        "        diag, = ax.plot(props['xlim'], props['ylim'], ls='--', c='black')\n",
        "        plt.show()\n",
        "        \n",
        "    def plot_prediction_std(self, size=(15, 5)):\n",
        "        _, ax = plt.subplots(figsize=size)\n",
        "        ax.plot(np.std(self.fold_preds, axis=0), c='#0047ab')\n",
        "        props = {'xlabel': 'test_example',\n",
        "                 'ylabel': 'std_test_example',\n",
        "                 'title': 'Stds of test examples'}\n",
        "        ax.set(**props)\n",
        "        plt.show()\n",
        "    \n",
        "    def plot_importances(self, size=(5, 15)): ######\n",
        "        _, ax = plt.subplots(figsize=size)#########\n",
        "        ax.barh(width=self.perm_imp, c='#0047ab')########\n",
        "        plt.show()######\n",
        "\n",
        "    def plot_error(self, error_type='MSE', size=(15, 5)):\n",
        "        _, ax = plt.subplots(figsize=size)\n",
        "        ax.plot(self.error[error_type], c='#0047ab')\n",
        "        props = {'xlabel': 'train_example',\n",
        "                 'ylabel': error_type.lower() + '_train_example',\n",
        "                 'title': error_type + ' of examples'}\n",
        "        ax.set(**props)\n",
        "        plt.show()\n",
        "    \n",
        "    def get_error_histogram(self, error_type='MSE', size=(12, 7)):\n",
        "        _, ax = plt.subplots(figsize=size)\n",
        "        ax.hist(self.error[error_type], c='#0047ab')\n",
        "        props = {'xlabel': 'train_set_error',\n",
        "                 'ylabel': error_type.lower() + '_error_frequency',\n",
        "                 'title': 'Histogram ' + error_type + ' of examples'}\n",
        "        ax.set(**props)\n",
        "        plt.show()"
      ],
      "execution_count": 5,
      "outputs": []
    },
    {
      "cell_type": "markdown",
      "metadata": {
        "id": "25mXe67PWFX4"
      },
      "source": [
        "**load data**"
      ]
    },
    {
      "cell_type": "code",
      "metadata": {
        "colab": {
          "resources": {
            "http://localhost:8080/nbextensions/google.colab/files.js": {
              "data": "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",
              "ok": true,
              "headers": [
                [
                  "content-type",
                  "application/javascript"
                ]
              ],
              "status": 200,
              "status_text": ""
            }
          },
          "base_uri": "https://localhost:8080/",
          "height": 142
        },
        "id": "GoOk1C42WIdg",
        "outputId": "e34473c6-019c-473e-dd04-6a809c1d05c8"
      },
      "source": [
        "#Load Dataset \n",
        "from google.colab import files #匯入load data套件\n",
        "upload = files.upload() #colab載入檔案"
      ],
      "execution_count": 6,
      "outputs": [
        {
          "output_type": "display_data",
          "data": {
            "text/html": [
              "\n",
              "     <input type=\"file\" id=\"files-4b998a11-7735-480a-ae43-20cbd305dbd6\" name=\"files[]\" multiple disabled\n",
              "        style=\"border:none\" />\n",
              "     <output id=\"result-4b998a11-7735-480a-ae43-20cbd305dbd6\">\n",
              "      Upload widget is only available when the cell has been executed in the\n",
              "      current browser session. Please rerun this cell to enable.\n",
              "      </output>\n",
              "      <script src=\"/nbextensions/google.colab/files.js\"></script> "
            ],
            "text/plain": [
              "<IPython.core.display.HTML object>"
            ]
          },
          "metadata": {
            "tags": []
          }
        },
        {
          "output_type": "stream",
          "text": [
            "Saving sample_submission_M0L0uXE.csv to sample_submission_M0L0uXE.csv\n",
            "Saving test_2umaH9m.csv to test_2umaH9m.csv\n",
            "Saving train_LZdllcl.csv to train_LZdllcl.csv\n"
          ],
          "name": "stdout"
        }
      ]
    },
    {
      "cell_type": "code",
      "metadata": {
        "id": "wSm7F_g7UFn9"
      },
      "source": [
        "train = pd.read_csv('train_LZdllcl.csv')\n",
        "test = pd.read_csv('test_2umaH9m.csv')\n",
        "sub = pd.read_csv('sample_submission_M0L0uXE.csv')\n",
        "del train['employee_id'], test['employee_id']"
      ],
      "execution_count": 7,
      "outputs": []
    },
    {
      "cell_type": "code",
      "metadata": {
        "colab": {
          "base_uri": "https://localhost:8080/"
        },
        "id": "aLW2xywxUIE1",
        "outputId": "4d660dc6-b3b4-438b-f953-089b691281dc"
      },
      "source": [
        "print('Train shape:', train.shape)\n",
        "print('Test shape:', test.shape)"
      ],
      "execution_count": 8,
      "outputs": [
        {
          "output_type": "stream",
          "text": [
            "Train shape: (54808, 13)\n",
            "Test shape: (23490, 12)\n"
          ],
          "name": "stdout"
        }
      ]
    },
    {
      "cell_type": "markdown",
      "metadata": {
        "id": "dREOME1pVz0v"
      },
      "source": [
        "**Visualization**"
      ]
    },
    {
      "cell_type": "code",
      "metadata": {
        "colab": {
          "base_uri": "https://localhost:8080/"
        },
        "id": "CfRWjtHbUJoU",
        "outputId": "2b6d215d-971d-4ccc-fdc1-f97e931fefd1"
      },
      "source": [
        "print('Non-zero target values %:', round(train['is_promoted'].mean() * 100, 2))"
      ],
      "execution_count": 9,
      "outputs": [
        {
          "output_type": "stream",
          "text": [
            "Non-zero target values %: 8.52\n"
          ],
          "name": "stdout"
        }
      ]
    },
    {
      "cell_type": "code",
      "metadata": {
        "colab": {
          "base_uri": "https://localhost:8080/",
          "height": 282
        },
        "id": "lGXy6Nr5UL1Z",
        "outputId": "1d9e1641-bbb9-4bb9-ba98-0fff9d786fa9"
      },
      "source": [
        "train['department'].value_counts(normalize=True).plot(kind='barh')"
      ],
      "execution_count": 10,
      "outputs": [
        {
          "output_type": "execute_result",
          "data": {
            "text/plain": [
              "<matplotlib.axes._subplots.AxesSubplot at 0x7f1e85d80650>"
            ]
          },
          "metadata": {
            "tags": []
          },
          "execution_count": 10
        },
        {
          "output_type": "display_data",
          "data": {
            "image/png": "[encoded data removed]",
            "text/plain": [
              "<Figure size 432x288 with 1 Axes>"
            ]
          },
          "metadata": {
            "tags": [],
            "needs_background": "light"
          }
        }
      ]
    },
    {
      "cell_type": "code",
      "metadata": {
        "colab": {
          "base_uri": "https://localhost:8080/",
          "height": 282
        },
        "id": "bYp54PY3UNj_",
        "outputId": "945e50fe-81c9-43cc-82ad-ce59a1d9246b"
      },
      "source": [
        "test['department'].value_counts(normalize=True).plot(kind='barh')"
      ],
      "execution_count": 11,
      "outputs": [
        {
          "output_type": "execute_result",
          "data": {
            "text/plain": [
              "<matplotlib.axes._subplots.AxesSubplot at 0x7f1e85c736d0>"
            ]
          },
          "metadata": {
            "tags": []
          },
          "execution_count": 11
        },
        {
          "output_type": "display_data",
          "data": {
            "image/png": "[encoded data removed]",
            "text/plain": [
              "<Figure size 432x288 with 1 Axes>"
            ]
          },
          "metadata": {
            "tags": [],
            "needs_background": "light"
          }
        }
      ]
    },
    {
      "cell_type": "code",
      "metadata": {
        "colab": {
          "base_uri": "https://localhost:8080/",
          "height": 282
        },
        "id": "FjrBCm8NUPNU",
        "outputId": "d63ae40f-ee54-4873-d4f0-3aeb59899556"
      },
      "source": [
        "train.groupby('department')['is_promoted'].mean().plot(kind='barh')"
      ],
      "execution_count": 12,
      "outputs": [
        {
          "output_type": "execute_result",
          "data": {
            "text/plain": [
              "<matplotlib.axes._subplots.AxesSubplot at 0x7f1e857bd590>"
            ]
          },
          "metadata": {
            "tags": []
          },
          "execution_count": 12
        },
        {
          "output_type": "display_data",
          "data": {
            "image/png": "[encoded data removed]",
            "text/plain": [
              "<Figure size 432x288 with 1 Axes>"
            ]
          },
          "metadata": {
            "tags": [],
            "needs_background": "light"
          }
        }
      ]
    },
    {
      "cell_type": "code",
      "metadata": {
        "colab": {
          "base_uri": "https://localhost:8080/"
        },
        "id": "1qzHh_FyURpZ",
        "outputId": "a00147af-e178-44c0-891a-f64f282bdbc7"
      },
      "source": [
        "train['education'].value_counts(normalize=True)"
      ],
      "execution_count": 13,
      "outputs": [
        {
          "output_type": "execute_result",
          "data": {
            "text/plain": [
              "Bachelor's          0.699803\n",
              "Master's & above    0.284834\n",
              "Below Secondary     0.015363\n",
              "Name: education, dtype: float64"
            ]
          },
          "metadata": {
            "tags": []
          },
          "execution_count": 13
        }
      ]
    },
    {
      "cell_type": "code",
      "metadata": {
        "colab": {
          "base_uri": "https://localhost:8080/"
        },
        "id": "O9CigwYAUTOt",
        "outputId": "29b96e9e-6c31-4526-9723-09065e10b7d3"
      },
      "source": [
        "test['education'].value_counts(normalize=True)"
      ],
      "execution_count": 14,
      "outputs": [
        {
          "output_type": "execute_result",
          "data": {
            "text/plain": [
              "Bachelor's          0.693712\n",
              "Master's & above    0.289633\n",
              "Below Secondary     0.016655\n",
              "Name: education, dtype: float64"
            ]
          },
          "metadata": {
            "tags": []
          },
          "execution_count": 14
        }
      ]
    },
    {
      "cell_type": "code",
      "metadata": {
        "colab": {
          "base_uri": "https://localhost:8080/",
          "height": 282
        },
        "id": "rtApRwt9UUu0",
        "outputId": "e3f31ac7-b1fc-48f6-cfc5-b55dadbb60a7"
      },
      "source": [
        "train.groupby('education')['is_promoted'].mean().plot(kind='barh')"
      ],
      "execution_count": 15,
      "outputs": [
        {
          "output_type": "execute_result",
          "data": {
            "text/plain": [
              "<matplotlib.axes._subplots.AxesSubplot at 0x7f1e8573d1d0>"
            ]
          },
          "metadata": {
            "tags": []
          },
          "execution_count": 15
        },
        {
          "output_type": "display_data",
          "data": {
            "image/png": "[encoded data removed]",
            "text/plain": [
              "<Figure size 432x288 with 1 Axes>"
            ]
          },
          "metadata": {
            "tags": [],
            "needs_background": "light"
          }
        }
      ]
    },
    {
      "cell_type": "code",
      "metadata": {
        "colab": {
          "base_uri": "https://localhost:8080/",
          "height": 322
        },
        "id": "5_FrJVp8UWhm",
        "outputId": "592a8d62-ef01-49ee-fe78-e2a926751957"
      },
      "source": [
        "train['region'].value_counts(normalize=True).plot(kind='bar')"
      ],
      "execution_count": 16,
      "outputs": [
        {
          "output_type": "execute_result",
          "data": {
            "text/plain": [
              "<matplotlib.axes._subplots.AxesSubplot at 0x7f1e856b6050>"
            ]
          },
          "metadata": {
            "tags": []
          },
          "execution_count": 16
        },
        {
          "output_type": "display_data",
          "data": {
            "image/png": "[encoded data removed]",
            "text/plain": [
              "<Figure size 432x288 with 1 Axes>"
            ]
          },
          "metadata": {
            "tags": [],
            "needs_background": "light"
          }
        }
      ]
    },
    {
      "cell_type": "code",
      "metadata": {
        "colab": {
          "base_uri": "https://localhost:8080/",
          "height": 322
        },
        "id": "AwXLSzlqUX8f",
        "outputId": "f85f8bff-6eb8-418f-d21c-941efb9964ad"
      },
      "source": [
        "test['region'].value_counts(normalize=True).plot(kind='bar')"
      ],
      "execution_count": 17,
      "outputs": [
        {
          "output_type": "execute_result",
          "data": {
            "text/plain": [
              "<matplotlib.axes._subplots.AxesSubplot at 0x7f1e85553e90>"
            ]
          },
          "metadata": {
            "tags": []
          },
          "execution_count": 17
        },
        {
          "output_type": "display_data",
          "data": {
            "image/png": "[encoded data removed]",
            "text/plain": [
              "<Figure size 432x288 with 1 Axes>"
            ]
          },
          "metadata": {
            "tags": [],
            "needs_background": "light"
          }
        }
      ]
    },
    {
      "cell_type": "code",
      "metadata": {
        "colab": {
          "base_uri": "https://localhost:8080/",
          "height": 283
        },
        "id": "GvQS3X7-UZUJ",
        "outputId": "4702d473-7b9b-412a-dad9-b45886fdc871"
      },
      "source": [
        "train.groupby('region')['is_promoted'].mean().plot(kind='barh')"
      ],
      "execution_count": 18,
      "outputs": [
        {
          "output_type": "execute_result",
          "data": {
            "text/plain": [
              "<matplotlib.axes._subplots.AxesSubplot at 0x7f1e854d7e10>"
            ]
          },
          "metadata": {
            "tags": []
          },
          "execution_count": 18
        },
        {
          "output_type": "display_data",
          "data": {
            "image/png": "[encoded data removed]",
            "text/plain": [
              "<Figure size 432x288 with 1 Axes>"
            ]
          },
          "metadata": {
            "tags": [],
            "needs_background": "light"
          }
        }
      ]
    },
    {
      "cell_type": "code",
      "metadata": {
        "colab": {
          "base_uri": "https://localhost:8080/"
        },
        "id": "9m-QvKPnUatc",
        "outputId": "bab0d60f-4d8d-4798-b8bd-f441b68f74d7"
      },
      "source": [
        "train['gender'].value_counts(normalize=True)"
      ],
      "execution_count": 19,
      "outputs": [
        {
          "output_type": "execute_result",
          "data": {
            "text/plain": [
              "m    0.702379\n",
              "f    0.297621\n",
              "Name: gender, dtype: float64"
            ]
          },
          "metadata": {
            "tags": []
          },
          "execution_count": 19
        }
      ]
    },
    {
      "cell_type": "code",
      "metadata": {
        "colab": {
          "base_uri": "https://localhost:8080/"
        },
        "id": "XtWUpw4NUceS",
        "outputId": "7e177573-264a-4543-e04e-e71c7afce7cc"
      },
      "source": [
        "test['gender'].value_counts(normalize=True)"
      ],
      "execution_count": 20,
      "outputs": [
        {
          "output_type": "execute_result",
          "data": {
            "text/plain": [
              "m    0.706513\n",
              "f    0.293487\n",
              "Name: gender, dtype: float64"
            ]
          },
          "metadata": {
            "tags": []
          },
          "execution_count": 20
        }
      ]
    },
    {
      "cell_type": "code",
      "metadata": {
        "colab": {
          "base_uri": "https://localhost:8080/",
          "height": 282
        },
        "id": "LkPds7_PUeJ_",
        "outputId": "6594415e-8f73-4c6e-b66a-32374c95fa32"
      },
      "source": [
        "train.groupby('gender')['is_promoted'].mean().plot(kind='barh')"
      ],
      "execution_count": 21,
      "outputs": [
        {
          "output_type": "execute_result",
          "data": {
            "text/plain": [
              "<matplotlib.axes._subplots.AxesSubplot at 0x7f1e85365c10>"
            ]
          },
          "metadata": {
            "tags": []
          },
          "execution_count": 21
        },
        {
          "output_type": "display_data",
          "data": {
            "image/png": "[encoded data removed]",
            "text/plain": [
              "<Figure size 432x288 with 1 Axes>"
            ]
          },
          "metadata": {
            "tags": [],
            "needs_background": "light"
          }
        }
      ]
    },
    {
      "cell_type": "code",
      "metadata": {
        "colab": {
          "base_uri": "https://localhost:8080/"
        },
        "id": "9n_xUL0mUfwR",
        "outputId": "c466f0be-8f62-474a-e851-1e8f28525ad3"
      },
      "source": [
        "train['recruitment_channel'].value_counts(normalize=True)"
      ],
      "execution_count": 22,
      "outputs": [
        {
          "output_type": "execute_result",
          "data": {
            "text/plain": [
              "other       0.555503\n",
              "sourcing    0.423661\n",
              "referred    0.020836\n",
              "Name: recruitment_channel, dtype: float64"
            ]
          },
          "metadata": {
            "tags": []
          },
          "execution_count": 22
        }
      ]
    },
    {
      "cell_type": "code",
      "metadata": {
        "colab": {
          "base_uri": "https://localhost:8080/"
        },
        "id": "h7SgOTT2UhLb",
        "outputId": "6f720c1d-1ec1-4c72-b806-ffb23923dc4d"
      },
      "source": [
        "test['recruitment_channel'].value_counts(normalize=True)"
      ],
      "execution_count": 23,
      "outputs": [
        {
          "output_type": "execute_result",
          "data": {
            "text/plain": [
              "other       0.556748\n",
              "sourcing    0.424053\n",
              "referred    0.019200\n",
              "Name: recruitment_channel, dtype: float64"
            ]
          },
          "metadata": {
            "tags": []
          },
          "execution_count": 23
        }
      ]
    },
    {
      "cell_type": "code",
      "metadata": {
        "colab": {
          "base_uri": "https://localhost:8080/",
          "height": 282
        },
        "id": "QbJKeaJyUiqz",
        "outputId": "31676376-b5cd-4bf0-c197-3a1369a73b67"
      },
      "source": [
        "train.groupby('recruitment_channel')['is_promoted'].mean().plot(kind='barh')"
      ],
      "execution_count": 24,
      "outputs": [
        {
          "output_type": "execute_result",
          "data": {
            "text/plain": [
              "<matplotlib.axes._subplots.AxesSubplot at 0x7f1e852f7f10>"
            ]
          },
          "metadata": {
            "tags": []
          },
          "execution_count": 24
        },
        {
          "output_type": "display_data",
          "data": {
            "image/png": "[encoded data removed]",
            "text/plain": [
              "<Figure size 432x288 with 1 Axes>"
            ]
          },
          "metadata": {
            "tags": [],
            "needs_background": "light"
          }
        }
      ]
    },
    {
      "cell_type": "code",
      "metadata": {
        "colab": {
          "base_uri": "https://localhost:8080/",
          "height": 285
        },
        "id": "Iwyu1OStUkat",
        "outputId": "cb1d17b9-6483-4d32-ff17-1a0fe20df832"
      },
      "source": [
        "train['no_of_trainings'].value_counts(normalize=True).plot(kind='bar')"
      ],
      "execution_count": 25,
      "outputs": [
        {
          "output_type": "execute_result",
          "data": {
            "text/plain": [
              "<matplotlib.axes._subplots.AxesSubplot at 0x7f1e8525a450>"
            ]
          },
          "metadata": {
            "tags": []
          },
          "execution_count": 25
        },
        {
          "output_type": "display_data",
          "data": {
            "image/png": "[encoded data removed]",
            "text/plain": [
              "<Figure size 432x288 with 1 Axes>"
            ]
          },
          "metadata": {
            "tags": [],
            "needs_background": "light"
          }
        }
      ]
    },
    {
      "cell_type": "code",
      "metadata": {
        "colab": {
          "base_uri": "https://localhost:8080/",
          "height": 279
        },
        "id": "0LfC1D2JUmEp",
        "outputId": "aed8b574-ffbf-4ac4-8ef9-e5bb63523440"
      },
      "source": [
        "test['no_of_trainings'].value_counts(normalize=True).plot(kind='bar')"
      ],
      "execution_count": 26,
      "outputs": [
        {
          "output_type": "execute_result",
          "data": {
            "text/plain": [
              "<matplotlib.axes._subplots.AxesSubplot at 0x7f1e85181550>"
            ]
          },
          "metadata": {
            "tags": []
          },
          "execution_count": 26
        },
        {
          "output_type": "display_data",
          "data": {
            "image/png": "[encoded data removed]",
            "text/plain": [
              "<Figure size 432x288 with 1 Axes>"
            ]
          },
          "metadata": {
            "tags": [],
            "needs_background": "light"
          }
        }
      ]
    },
    {
      "cell_type": "code",
      "metadata": {
        "colab": {
          "base_uri": "https://localhost:8080/",
          "height": 282
        },
        "id": "K_iNZRzoUn49",
        "outputId": "47d19cbc-1e74-41bd-b679-0280aa678c60"
      },
      "source": [
        "train.groupby('no_of_trainings')['is_promoted'].mean().plot(kind='barh')"
      ],
      "execution_count": 27,
      "outputs": [
        {
          "output_type": "execute_result",
          "data": {
            "text/plain": [
              "<matplotlib.axes._subplots.AxesSubplot at 0x7f1e8544a050>"
            ]
          },
          "metadata": {
            "tags": []
          },
          "execution_count": 27
        },
        {
          "output_type": "display_data",
          "data": {
            "image/png": "[encoded data removed]",
            "text/plain": [
              "<Figure size 432x288 with 1 Axes>"
            ]
          },
          "metadata": {
            "tags": [],
            "needs_background": "light"
          }
        }
      ]
    },
    {
      "cell_type": "code",
      "metadata": {
        "colab": {
          "base_uri": "https://localhost:8080/",
          "height": 350
        },
        "id": "ZfR70lsiUqk6",
        "outputId": "67e15ddf-07c7-40d8-99da-c35949fef85d"
      },
      "source": [
        "sns.distplot(train['age'])"
      ],
      "execution_count": 28,
      "outputs": [
        {
          "output_type": "stream",
          "text": [
            "/usr/local/lib/python3.7/dist-packages/seaborn/distributions.py:2557: FutureWarning: `distplot` is a deprecated function and will be removed in a future version. Please adapt your code to use either `displot` (a figure-level function with similar flexibility) or `histplot` (an axes-level function for histograms).\n",
            "  warnings.warn(msg, FutureWarning)\n"
          ],
          "name": "stderr"
        },
        {
          "output_type": "execute_result",
          "data": {
            "text/plain": [
              "<matplotlib.axes._subplots.AxesSubplot at 0x7f1e85089f50>"
            ]
          },
          "metadata": {
            "tags": []
          },
          "execution_count": 28
        },
        {
          "output_type": "display_data",
          "data": {
            "image/png": "[encoded data removed]",
            "text/plain": [
              "<Figure size 432x288 with 1 Axes>"
            ]
          },
          "metadata": {
            "tags": [],
            "needs_background": "light"
          }
        }
      ]
    },
    {
      "cell_type": "code",
      "metadata": {
        "colab": {
          "base_uri": "https://localhost:8080/",
          "height": 350
        },
        "id": "OtKjhGNkUsU8",
        "outputId": "30e0ec22-6b78-45d8-c09f-bfeb7997fb3e"
      },
      "source": [
        "sns.distplot(test['age'])"
      ],
      "execution_count": 29,
      "outputs": [
        {
          "output_type": "stream",
          "text": [
            "/usr/local/lib/python3.7/dist-packages/seaborn/distributions.py:2557: FutureWarning: `distplot` is a deprecated function and will be removed in a future version. Please adapt your code to use either `displot` (a figure-level function with similar flexibility) or `histplot` (an axes-level function for histograms).\n",
            "  warnings.warn(msg, FutureWarning)\n"
          ],
          "name": "stderr"
        },
        {
          "output_type": "execute_result",
          "data": {
            "text/plain": [
              "<matplotlib.axes._subplots.AxesSubplot at 0x7f1e7a7a90d0>"
            ]
          },
          "metadata": {
            "tags": []
          },
          "execution_count": 29
        },
        {
          "output_type": "display_data",
          "data": {
            "image/png": "[encoded data removed]",
            "text/plain": [
              "<Figure size 432x288 with 1 Axes>"
            ]
          },
          "metadata": {
            "tags": [],
            "needs_background": "light"
          }
        }
      ]
    },
    {
      "cell_type": "code",
      "metadata": {
        "colab": {
          "base_uri": "https://localhost:8080/",
          "height": 350
        },
        "id": "2hmTb9pUUuI5",
        "outputId": "2153672a-fb6c-4b63-e41e-3daac81eae17"
      },
      "source": [
        "sns.boxplot(train['age'])"
      ],
      "execution_count": 30,
      "outputs": [
        {
          "output_type": "stream",
          "text": [
            "/usr/local/lib/python3.7/dist-packages/seaborn/_decorators.py:43: FutureWarning: Pass the following variable as a keyword arg: x. From version 0.12, the only valid positional argument will be `data`, and passing other arguments without an explicit keyword will result in an error or misinterpretation.\n",
            "  FutureWarning\n"
          ],
          "name": "stderr"
        },
        {
          "output_type": "execute_result",
          "data": {
            "text/plain": [
              "<matplotlib.axes._subplots.AxesSubplot at 0x7f1e84ffdc50>"
            ]
          },
          "metadata": {
            "tags": []
          },
          "execution_count": 30
        },
        {
          "output_type": "display_data",
          "data": {
            "image/png": "[encoded data removed]",
            "text/plain": [
              "<Figure size 432x288 with 1 Axes>"
            ]
          },
          "metadata": {
            "tags": [],
            "needs_background": "light"
          }
        }
      ]
    },
    {
      "cell_type": "code",
      "metadata": {
        "colab": {
          "base_uri": "https://localhost:8080/",
          "height": 350
        },
        "id": "WhSGdw0AUwAX",
        "outputId": "d9ebdf74-37a6-407e-b919-82d5cbbd5e54"
      },
      "source": [
        "sns.boxplot(test['age'])"
      ],
      "execution_count": 31,
      "outputs": [
        {
          "output_type": "stream",
          "text": [
            "/usr/local/lib/python3.7/dist-packages/seaborn/_decorators.py:43: FutureWarning: Pass the following variable as a keyword arg: x. From version 0.12, the only valid positional argument will be `data`, and passing other arguments without an explicit keyword will result in an error or misinterpretation.\n",
            "  FutureWarning\n"
          ],
          "name": "stderr"
        },
        {
          "output_type": "execute_result",
          "data": {
            "text/plain": [
              "<matplotlib.axes._subplots.AxesSubplot at 0x7f1e7a6337d0>"
            ]
          },
          "metadata": {
            "tags": []
          },
          "execution_count": 31
        },
        {
          "output_type": "display_data",
          "data": {
            "image/png": "[encoded data removed]",
            "text/plain": [
              "<Figure size 432x288 with 1 Axes>"
            ]
          },
          "metadata": {
            "tags": [],
            "needs_background": "light"
          }
        }
      ]
    },
    {
      "cell_type": "code",
      "metadata": {
        "colab": {
          "base_uri": "https://localhost:8080/"
        },
        "id": "5Pkt31hiUx2i",
        "outputId": "b44d1579-45eb-426b-b519-af72528c5203"
      },
      "source": [
        "train.groupby('is_promoted')['age'].mean()"
      ],
      "execution_count": 32,
      "outputs": [
        {
          "output_type": "execute_result",
          "data": {
            "text/plain": [
              "is_promoted\n",
              "0    34.844037\n",
              "1    34.372965\n",
              "Name: age, dtype: float64"
            ]
          },
          "metadata": {
            "tags": []
          },
          "execution_count": 32
        }
      ]
    },
    {
      "cell_type": "code",
      "metadata": {
        "colab": {
          "base_uri": "https://localhost:8080/",
          "height": 288
        },
        "id": "T7AL7wRpUz55",
        "outputId": "73933b59-4d34-4e8b-db5a-b6c0fcc7c47c"
      },
      "source": [
        "train['previous_year_rating'].value_counts(normalize=True).plot(kind='bar')"
      ],
      "execution_count": 33,
      "outputs": [
        {
          "output_type": "execute_result",
          "data": {
            "text/plain": [
              "<matplotlib.axes._subplots.AxesSubplot at 0x7f1e7a5ad690>"
            ]
          },
          "metadata": {
            "tags": []
          },
          "execution_count": 33
        },
        {
          "output_type": "display_data",
          "data": {
            "image/png": "[encoded data removed]",
            "text/plain": [
              "<Figure size 432x288 with 1 Axes>"
            ]
          },
          "metadata": {
            "tags": [],
            "needs_background": "light"
          }
        }
      ]
    },
    {
      "cell_type": "code",
      "metadata": {
        "colab": {
          "base_uri": "https://localhost:8080/",
          "height": 288
        },
        "id": "8cIEfGArU1fX",
        "outputId": "21a21a75-eaaf-4534-81b9-3cc6a6b7ab5b"
      },
      "source": [
        "test['previous_year_rating'].value_counts(normalize=True).plot(kind='bar')"
      ],
      "execution_count": 34,
      "outputs": [
        {
          "output_type": "execute_result",
          "data": {
            "text/plain": [
              "<matplotlib.axes._subplots.AxesSubplot at 0x7f1e7a52d850>"
            ]
          },
          "metadata": {
            "tags": []
          },
          "execution_count": 34
        },
        {
          "output_type": "display_data",
          "data": {
            "image/png": "[encoded data removed]",
            "text/plain": [
              "<Figure size 432x288 with 1 Axes>"
            ]
          },
          "metadata": {
            "tags": [],
            "needs_background": "light"
          }
        }
      ]
    },
    {
      "cell_type": "code",
      "metadata": {
        "colab": {
          "base_uri": "https://localhost:8080/",
          "height": 282
        },
        "id": "TVYyVYodU3gO",
        "outputId": "eeccfde3-7b52-481e-9060-e1fc10b3fefd"
      },
      "source": [
        "train.groupby('previous_year_rating')['is_promoted'].mean().plot(kind='barh')"
      ],
      "execution_count": 35,
      "outputs": [
        {
          "output_type": "execute_result",
          "data": {
            "text/plain": [
              "<matplotlib.axes._subplots.AxesSubplot at 0x7f1e7a4a5590>"
            ]
          },
          "metadata": {
            "tags": []
          },
          "execution_count": 35
        },
        {
          "output_type": "display_data",
          "data": {
            "image/png": "[encoded data removed]",
            "text/plain": [
              "<Figure size 432x288 with 1 Axes>"
            ]
          },
          "metadata": {
            "tags": [],
            "needs_background": "light"
          }
        }
      ]
    },
    {
      "cell_type": "code",
      "metadata": {
        "colab": {
          "base_uri": "https://localhost:8080/"
        },
        "id": "wIbaJg-tU5RR",
        "outputId": "d3a3576b-181f-40af-8fc6-4982ef94275b"
      },
      "source": [
        "train.groupby('is_promoted')['previous_year_rating'].mean()"
      ],
      "execution_count": 36,
      "outputs": [
        {
          "output_type": "execute_result",
          "data": {
            "text/plain": [
              "is_promoted\n",
              "0    3.267911\n",
              "1    3.986140\n",
              "Name: previous_year_rating, dtype: float64"
            ]
          },
          "metadata": {
            "tags": []
          },
          "execution_count": 36
        }
      ]
    },
    {
      "cell_type": "code",
      "metadata": {
        "colab": {
          "base_uri": "https://localhost:8080/",
          "height": 285
        },
        "id": "vLJSzMQ5U6pY",
        "outputId": "b10fd87f-c5e6-4fa7-c7d4-c1a7a06be842"
      },
      "source": [
        "train['length_of_service'].value_counts(normalize=True).plot(kind='bar')"
      ],
      "execution_count": 37,
      "outputs": [
        {
          "output_type": "execute_result",
          "data": {
            "text/plain": [
              "<matplotlib.axes._subplots.AxesSubplot at 0x7f1e86819e90>"
            ]
          },
          "metadata": {
            "tags": []
          },
          "execution_count": 37
        },
        {
          "output_type": "display_data",
          "data": {
            "image/png": "[encoded data removed]",
            "text/plain": [
              "<Figure size 432x288 with 1 Axes>"
            ]
          },
          "metadata": {
            "tags": [],
            "needs_background": "light"
          }
        }
      ]
    },
    {
      "cell_type": "code",
      "metadata": {
        "colab": {
          "base_uri": "https://localhost:8080/",
          "height": 285
        },
        "id": "KhQmB57nU8p9",
        "outputId": "6c3c1748-a3af-4865-e028-d648c244aad3"
      },
      "source": [
        "test['length_of_service'].value_counts(normalize=True).plot(kind='bar')"
      ],
      "execution_count": 38,
      "outputs": [
        {
          "output_type": "execute_result",
          "data": {
            "text/plain": [
              "<matplotlib.axes._subplots.AxesSubplot at 0x7f1e7a338290>"
            ]
          },
          "metadata": {
            "tags": []
          },
          "execution_count": 38
        },
        {
          "output_type": "display_data",
          "data": {
            "image/png": "[encoded data removed]",
            "text/plain": [
              "<Figure size 432x288 with 1 Axes>"
            ]
          },
          "metadata": {
            "tags": [],
            "needs_background": "light"
          }
        }
      ]
    },
    {
      "cell_type": "code",
      "metadata": {
        "colab": {
          "base_uri": "https://localhost:8080/"
        },
        "id": "oi4sFninU-pJ",
        "outputId": "b2c52615-1d40-440a-98cc-bd19165f80ed"
      },
      "source": [
        "train.groupby('is_promoted')['length_of_service'].mean()"
      ],
      "execution_count": 39,
      "outputs": [
        {
          "output_type": "execute_result",
          "data": {
            "text/plain": [
              "is_promoted\n",
              "0    5.879398\n",
              "1    5.716367\n",
              "Name: length_of_service, dtype: float64"
            ]
          },
          "metadata": {
            "tags": []
          },
          "execution_count": 39
        }
      ]
    },
    {
      "cell_type": "code",
      "metadata": {
        "colab": {
          "base_uri": "https://localhost:8080/"
        },
        "id": "FEzut46DVAKX",
        "outputId": "f9711a41-bf28-4122-c93f-c7be93b99d66"
      },
      "source": [
        "train['KPIs_met >80%'].mean()"
      ],
      "execution_count": 40,
      "outputs": [
        {
          "output_type": "execute_result",
          "data": {
            "text/plain": [
              "0.35197416435556855"
            ]
          },
          "metadata": {
            "tags": []
          },
          "execution_count": 40
        }
      ]
    },
    {
      "cell_type": "code",
      "metadata": {
        "colab": {
          "base_uri": "https://localhost:8080/"
        },
        "id": "3U3G8QD9VCVr",
        "outputId": "8f2ade74-ec31-4c99-9936-76386f479852"
      },
      "source": [
        "test['KPIs_met >80%'].mean()"
      ],
      "execution_count": 41,
      "outputs": [
        {
          "output_type": "execute_result",
          "data": {
            "text/plain": [
              "0.358833546189868"
            ]
          },
          "metadata": {
            "tags": []
          },
          "execution_count": 41
        }
      ]
    },
    {
      "cell_type": "code",
      "metadata": {
        "colab": {
          "base_uri": "https://localhost:8080/"
        },
        "id": "zRjCAwV_VE5R",
        "outputId": "fc6678b8-964e-45dc-b1b0-0d2b9848323c"
      },
      "source": [
        "train.groupby('KPIs_met >80%')['is_promoted'].mean()"
      ],
      "execution_count": 42,
      "outputs": [
        {
          "output_type": "execute_result",
          "data": {
            "text/plain": [
              "KPIs_met >80%\n",
              "0    0.039587\n",
              "1    0.169094\n",
              "Name: is_promoted, dtype: float64"
            ]
          },
          "metadata": {
            "tags": []
          },
          "execution_count": 42
        }
      ]
    },
    {
      "cell_type": "code",
      "metadata": {
        "colab": {
          "base_uri": "https://localhost:8080/"
        },
        "id": "WSElbD6mVISm",
        "outputId": "27daec07-ef8d-4d90-d0c3-c5fdceb5b4ef"
      },
      "source": [
        "train['awards_won?'].mean()"
      ],
      "execution_count": 43,
      "outputs": [
        {
          "output_type": "execute_result",
          "data": {
            "text/plain": [
              "0.023171799737264635"
            ]
          },
          "metadata": {
            "tags": []
          },
          "execution_count": 43
        }
      ]
    },
    {
      "cell_type": "code",
      "metadata": {
        "colab": {
          "base_uri": "https://localhost:8080/"
        },
        "id": "eJmcOJp7VJgi",
        "outputId": "0d47b1dc-aecc-4135-bfb8-8b9e29e56aec"
      },
      "source": [
        "test['awards_won?'].mean()"
      ],
      "execution_count": 44,
      "outputs": [
        {
          "output_type": "execute_result",
          "data": {
            "text/plain": [
              "0.02277564921243082"
            ]
          },
          "metadata": {
            "tags": []
          },
          "execution_count": 44
        }
      ]
    },
    {
      "cell_type": "code",
      "metadata": {
        "colab": {
          "base_uri": "https://localhost:8080/",
          "height": 351
        },
        "id": "z_AoZNGlVKyA",
        "outputId": "83b319a9-6814-4451-ee3b-8d8c7123ce1d"
      },
      "source": [
        "sns.distplot(train['avg_training_score'])"
      ],
      "execution_count": 45,
      "outputs": [
        {
          "output_type": "stream",
          "text": [
            "/usr/local/lib/python3.7/dist-packages/seaborn/distributions.py:2557: FutureWarning: `distplot` is a deprecated function and will be removed in a future version. Please adapt your code to use either `displot` (a figure-level function with similar flexibility) or `histplot` (an axes-level function for histograms).\n",
            "  warnings.warn(msg, FutureWarning)\n"
          ],
          "name": "stderr"
        },
        {
          "output_type": "execute_result",
          "data": {
            "text/plain": [
              "<matplotlib.axes._subplots.AxesSubplot at 0x7f1e7a21fc90>"
            ]
          },
          "metadata": {
            "tags": []
          },
          "execution_count": 45
        },
        {
          "output_type": "display_data",
          "data": {
            "image/png": "[encoded data removed]",
            "text/plain": [
              "<Figure size 432x288 with 1 Axes>"
            ]
          },
          "metadata": {
            "tags": [],
            "needs_background": "light"
          }
        }
      ]
    },
    {
      "cell_type": "code",
      "metadata": {
        "colab": {
          "base_uri": "https://localhost:8080/",
          "height": 351
        },
        "id": "sMQkfSR4VMaJ",
        "outputId": "1866d285-6b9c-4a84-86d2-35237c46ebcd"
      },
      "source": [
        "sns.distplot(test['avg_training_score'])"
      ],
      "execution_count": 46,
      "outputs": [
        {
          "output_type": "stream",
          "text": [
            "/usr/local/lib/python3.7/dist-packages/seaborn/distributions.py:2557: FutureWarning: `distplot` is a deprecated function and will be removed in a future version. Please adapt your code to use either `displot` (a figure-level function with similar flexibility) or `histplot` (an axes-level function for histograms).\n",
            "  warnings.warn(msg, FutureWarning)\n"
          ],
          "name": "stderr"
        },
        {
          "output_type": "execute_result",
          "data": {
            "text/plain": [
              "<matplotlib.axes._subplots.AxesSubplot at 0x7f1e85028510>"
            ]
          },
          "metadata": {
            "tags": []
          },
          "execution_count": 46
        },
        {
          "output_type": "display_data",
          "data": {
            "image/png": "[encoded data removed]",
            "text/plain": [
              "<Figure size 432x288 with 1 Axes>"
            ]
          },
          "metadata": {
            "tags": [],
            "needs_background": "light"
          }
        }
      ]
    },
    {
      "cell_type": "code",
      "metadata": {
        "colab": {
          "base_uri": "https://localhost:8080/"
        },
        "id": "rk03W8VsVOAM",
        "outputId": "3313c2de-a9d8-4165-dedf-d811f9c34d7f"
      },
      "source": [
        "train.groupby('is_promoted')['avg_training_score'].mean()"
      ],
      "execution_count": 47,
      "outputs": [
        {
          "output_type": "execute_result",
          "data": {
            "text/plain": [
              "is_promoted\n",
              "0    62.647686\n",
              "1    71.325193\n",
              "Name: avg_training_score, dtype: float64"
            ]
          },
          "metadata": {
            "tags": []
          },
          "execution_count": 47
        }
      ]
    },
    {
      "cell_type": "markdown",
      "metadata": {
        "id": "fHvCfiJgVPxm"
      },
      "source": [
        "### **Preprocessing & FE**"
      ]
    },
    {
      "cell_type": "code",
      "metadata": {
        "id": "oFVbLrStVScn"
      },
      "source": [
        "y = train['is_promoted']\n",
        "del train['is_promoted']\n",
        "helper = TrainTestHelper()\n",
        "data = helper.combine(train, test)"
      ],
      "execution_count": 48,
      "outputs": []
    },
    {
      "cell_type": "code",
      "metadata": {
        "id": "_CQQi8izVUEH"
      },
      "source": [
        "data['department|training'] = data['department'] + np.digitize(data['avg_training_score'], [c * 10 for c in range(3, 11)]).astype(str)\n",
        "data['kpi|training'] = data['KPIs_met >80%'].astype(str) + np.digitize(data['avg_training_score'], [c * 10 for c in range(3, 11)]).astype(str)\n",
        "data['department|kpi'] = data['department'] + data['KPIs_met >80%'].astype(str)\n",
        "data['kpi*rating'] = data['KPIs_met >80%'] * data['previous_year_rating']\n",
        "\n",
        "data['mean_training_by_department'] = data['department'].map(data.groupby('department')['avg_training_score'].mean())\n",
        "data['department_training_mean_ratio'] = data['avg_training_score'] / data['mean_training_by_department']\n",
        "\n",
        "data['mean_rating_by_department'] = data['department'].map(data.groupby('department')['previous_year_rating'].mean())\n",
        "data['department_rating_mean_ratio'] = data['previous_year_rating'] / data['mean_rating_by_department']\n",
        "\n",
        "data['mean_kpi_by_department'] = data['department'].map(data.groupby('department')['KPIs_met >80%'].mean())"
      ],
      "execution_count": 49,
      "outputs": []
    },
    {
      "cell_type": "code",
      "metadata": {
        "id": "ZSyyH-WKVVy3"
      },
      "source": [
        "to_cat = ['department',\n",
        "          'region',\n",
        "          'gender',\n",
        "          'recruitment_channel',\n",
        "          'department|training',\n",
        "          'department|kpi',\n",
        "          'kpi|training']\n",
        "for c in to_cat:\n",
        "    data[c] = pd.factorize(data[c])[0]"
      ],
      "execution_count": 50,
      "outputs": []
    },
    {
      "cell_type": "code",
      "metadata": {
        "id": "OkSQHN_hVXTh"
      },
      "source": [
        "\n",
        "ed_dict = {'Below Secondary': 0, 'Bachelor\\'s': 1, 'Master\\'s & above': 2}\n",
        "data['education'] = data['education'].map(ed_dict)\n",
        "#data = data.fillna(-1)"
      ],
      "execution_count": 51,
      "outputs": []
    },
    {
      "cell_type": "code",
      "metadata": {
        "id": "77qLlZaoVZpL"
      },
      "source": [
        "train, test = helper.split(data)"
      ],
      "execution_count": 52,
      "outputs": []
    },
    {
      "cell_type": "code",
      "metadata": {
        "id": "Y9ZIEKd7VbMu"
      },
      "source": [
        "\n",
        "params = {'app': 'binary',\n",
        "          'learning_rate': 0.01,\n",
        "          'num_leaves': 10,\n",
        "          'feature_fraction': 0.5,\n",
        "          'lamda_l1': 3,\n",
        "          'metric': 'binary_logloss'}\n",
        "cvparams = {'nround': 5000,\n",
        "            'stopping': 20,\n",
        "            'verbose': 200,\n",
        "            'metric': log_loss,\n",
        "            'folds': KFold(n_splits=5, shuffle=True, random_state=0)}\n",
        "wiz = LGBWizard(params, cvparams)"
      ],
      "execution_count": 53,
      "outputs": []
    },
    {
      "cell_type": "markdown",
      "metadata": {
        "id": "kUIzuK3zVd5q"
      },
      "source": [
        "### **fit model**"
      ]
    },
    {
      "cell_type": "code",
      "metadata": {
        "colab": {
          "base_uri": "https://localhost:8080/",
          "height": 454
        },
        "id": "882-zWBhVbth",
        "outputId": "4abd2426-be48-49bd-e8e9-ddbd893b99d2"
      },
      "source": [
        "wiz.fit(train, y, test, permute=3, get_shap=True)"
      ],
      "execution_count": 54,
      "outputs": [
        {
          "output_type": "stream",
          "text": [
            "Training until validation scores don't improve for 20 rounds.\n",
            "[200]\ttraining's binary_logloss: 0.179126\tvalid_1's binary_logloss: 0.17558\n",
            "[400]\ttraining's binary_logloss: 0.164817\tvalid_1's binary_logloss: 0.161948\n",
            "[600]\ttraining's binary_logloss: 0.160415\tvalid_1's binary_logloss: 0.158934\n",
            "[800]\ttraining's binary_logloss: 0.157855\tvalid_1's binary_logloss: 0.158061\n",
            "[1000]\ttraining's binary_logloss: 0.155965\tvalid_1's binary_logloss: 0.157655\n",
            "[1200]\ttraining's binary_logloss: 0.15431\tvalid_1's binary_logloss: 0.157484\n",
            "Early stopping, best iteration is:\n",
            "[1214]\ttraining's binary_logloss: 0.154178\tvalid_1's binary_logloss: 0.157466\n",
            "Fold 0: 0.15747\n"
          ],
          "name": "stdout"
        },
        {
          "output_type": "error",
          "ename": "NameError",
          "evalue": "ignored",
          "traceback": [
            "\u001b[0;31m---------------------------------------------------------------------------\u001b[0m",
            "\u001b[0;31mNameError\u001b[0m                                 Traceback (most recent call last)",
            "\u001b[0;32m<ipython-input-54-1fa824f8ebe2>\u001b[0m in \u001b[0;36m<module>\u001b[0;34m()\u001b[0m\n\u001b[0;32m----> 1\u001b[0;31m \u001b[0mwiz\u001b[0m\u001b[0;34m.\u001b[0m\u001b[0mfit\u001b[0m\u001b[0;34m(\u001b[0m\u001b[0mtrain\u001b[0m\u001b[0;34m,\u001b[0m \u001b[0my\u001b[0m\u001b[0;34m,\u001b[0m \u001b[0mtest\u001b[0m\u001b[0;34m,\u001b[0m \u001b[0mpermute\u001b[0m\u001b[0;34m=\u001b[0m\u001b[0;36m3\u001b[0m\u001b[0;34m,\u001b[0m \u001b[0mget_shap\u001b[0m\u001b[0;34m=\u001b[0m\u001b[0;32mTrue\u001b[0m\u001b[0;34m)\u001b[0m\u001b[0;34m\u001b[0m\u001b[0;34m\u001b[0m\u001b[0m\n\u001b[0m",
            "\u001b[0;32m<ipython-input-5-e9d70596250c>\u001b[0m in \u001b[0;36mfit\u001b[0;34m(self, X, y, test, permute, get_shap)\u001b[0m\n\u001b[1;32m     47\u001b[0m \u001b[0;34m\u001b[0m\u001b[0m\n\u001b[1;32m     48\u001b[0m             \u001b[0;32mif\u001b[0m \u001b[0mpermute\u001b[0m \u001b[0;32mis\u001b[0m \u001b[0;32mnot\u001b[0m \u001b[0;32mNone\u001b[0m\u001b[0;34m:\u001b[0m\u001b[0;34m\u001b[0m\u001b[0;34m\u001b[0m\u001b[0m\n\u001b[0;32m---> 49\u001b[0;31m                 \u001b[0m_\u001b[0m\u001b[0;34m,\u001b[0m \u001b[0mlocal_imp\u001b[0m \u001b[0;34m=\u001b[0m \u001b[0mget_score_importances\u001b[0m\u001b[0;34m(\u001b[0m\u001b[0mscore\u001b[0m\u001b[0;34m,\u001b[0m \u001b[0mxte\u001b[0m\u001b[0;34m.\u001b[0m\u001b[0mvalues\u001b[0m\u001b[0;34m,\u001b[0m \u001b[0myte\u001b[0m\u001b[0;34m,\u001b[0m \u001b[0mn_iter\u001b[0m\u001b[0;34m=\u001b[0m\u001b[0mpermute\u001b[0m\u001b[0;34m,\u001b[0m \u001b[0mrandom_state\u001b[0m\u001b[0;34m=\u001b[0m\u001b[0;36m0\u001b[0m\u001b[0;34m)\u001b[0m\u001b[0;34m\u001b[0m\u001b[0;34m\u001b[0m\u001b[0m\n\u001b[0m\u001b[1;32m     50\u001b[0m                 \u001b[0mself\u001b[0m\u001b[0;34m.\u001b[0m\u001b[0mperm_imp\u001b[0m \u001b[0;34m+=\u001b[0m \u001b[0mnp\u001b[0m\u001b[0;34m.\u001b[0m\u001b[0mmean\u001b[0m\u001b[0;34m(\u001b[0m\u001b[0mlocal_imp\u001b[0m\u001b[0;34m,\u001b[0m \u001b[0maxis\u001b[0m\u001b[0;34m=\u001b[0m\u001b[0;36m0\u001b[0m\u001b[0;34m)\u001b[0m\u001b[0;34m\u001b[0m\u001b[0;34m\u001b[0m\u001b[0m\n\u001b[1;32m     51\u001b[0m \u001b[0;34m\u001b[0m\u001b[0m\n",
            "\u001b[0;31mNameError\u001b[0m: name 'get_score_importances' is not defined"
          ]
        }
      ]
    },
    {
      "cell_type": "code",
      "metadata": {
        "id": "Q2IDvG_VVdg4"
      },
      "source": [
        "wiz.get_importances()"
      ],
      "execution_count": null,
      "outputs": []
    },
    {
      "cell_type": "code",
      "metadata": {
        "id": "PE-sZDAtVm_q"
      },
      "source": [
        "wiz.plot_prediction_std()"
      ],
      "execution_count": null,
      "outputs": []
    },
    {
      "cell_type": "code",
      "metadata": {
        "id": "JRsKgm7sVos-"
      },
      "source": [
        "f1_score(y, 1 * (wiz.cvpred > 0.25))"
      ],
      "execution_count": null,
      "outputs": []
    },
    {
      "cell_type": "code",
      "metadata": {
        "id": "iOELYKKyVtpo"
      },
      "source": [
        "oof = pd.DataFrame()\n",
        "oof['is_promoted'] = wiz.cvpred"
      ],
      "execution_count": null,
      "outputs": []
    },
    {
      "cell_type": "code",
      "metadata": {
        "id": "Qy5dhD_aVvJ1"
      },
      "source": [
        "# 4 Dima to ensemble\n",
        "oof.to_csv('oof.csv', index=False)\n",
        "sub.to_csv('sub.csv', index=False)"
      ],
      "execution_count": null,
      "outputs": []
    }
  ]
}