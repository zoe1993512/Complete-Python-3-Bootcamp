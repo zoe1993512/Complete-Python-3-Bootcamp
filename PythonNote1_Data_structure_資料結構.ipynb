{
  "nbformat": 4,
  "nbformat_minor": 0,
  "metadata": {
    "colab": {
      "name": "PythonNote1_Data structure 資料結構",
      "provenance": [],
      "authorship_tag": "ABX9TyPi6WtdZWifX6xOZQDUCqTq",
      "include_colab_link": true
    },
    "kernelspec": {
      "name": "python3",
      "display_name": "Python 3"
    }
  },
  "cells": [
    {
      "cell_type": "markdown",
      "metadata": {
        "id": "view-in-github",
        "colab_type": "text"
      },
      "source": [
        "<a href=\"https://colab.research.google.com/github/zoe1993512/Complete-Python-3-Bootcamp/blob/master/PythonNote1_Data_structure_%E8%B3%87%E6%96%99%E7%B5%90%E6%A7%8B.ipynb\" target=\"_parent\"><img src=\"https://colab.research.google.com/assets/colab-badge.svg\" alt=\"Open In Colab\"/></a>"
      ]
    },
    {
      "cell_type": "code",
      "metadata": {
        "id": "hukukY8oJAxa"
      },
      "source": [
        ""
      ],
      "execution_count": null,
      "outputs": []
    }
  ]
}